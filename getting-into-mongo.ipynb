{
 "cells": [
  {
   "cell_type": "code",
   "execution_count": null,
   "metadata": {
    "collapsed": true
   },
   "outputs": [],
   "source": [
    "from pymongo import MongoClient\n",
    "from dateutil import parser\n",
    "from elasticsearch import Elasticsearch"
   ]
  },
  {
   "cell_type": "markdown",
   "metadata": {},
   "source": [
    "## Setting up mongodb"
   ]
  },
  {
   "cell_type": "code",
   "execution_count": null,
   "metadata": {
    "collapsed": true
   },
   "outputs": [],
   "source": [
    "client = MongoClient('mongodb://localhost:27017')\n",
    "db = client.geonames\n",
    "collection = db.all_names"
   ]
  },
  {
   "cell_type": "markdown",
   "metadata": {},
   "source": [
    "We will use the dataset and fieldnames from this website:\n",
    "http://download.geonames.org/export/dump/"
   ]
  },
  {
   "cell_type": "markdown",
   "metadata": {},
   "source": [
    "query_lower is the lower case text in which field you will query\n",
    "\n",
    "\n",
    "After you get the match, ascii_lower is the name you want to use to disambiguate between cities"
   ]
  },
  {
   "cell_type": "markdown",
   "metadata": {},
   "source": [
    "## Setting up Elasticsearch"
   ]
  },
  {
   "cell_type": "code",
   "execution_count": null,
   "metadata": {
    "collapsed": true
   },
   "outputs": [],
   "source": [
    "es = Elasticsearch()"
   ]
  },
  {
   "cell_type": "code",
   "execution_count": null,
   "metadata": {},
   "outputs": [],
   "source": [
    "line_num = 0\n",
    "field_names = [\"geo_name_id\",\"name\", \"ascii_name\", \"alternate_name\", \"latitude\", \"longitude\", \"feature_class\",\n",
    "\"feature_code\",\"country_code\",\"cc2\",\"admin1_code\",\"admin2_code\",\"admin3_code\",\"admin4_code\",\"population\",\n",
    "\"elevation\",\"dem\",\"timezone\",\"modification_date\"]\n",
    "with open('allCountries.txt','r') as f:\n",
    "    document = f.xreadlines()\n",
    "    for line in document:\n",
    "        line_num += 1\n",
    "        if line_num % 10000 == 0:\n",
    "            print line_num\n",
    "        splitted_line = line.strip().split('\\t')\n",
    "        if splitted_line[3] == \"\":\n",
    "            splitted_line[3] = splitted_line[2]\n",
    "        all_possible_names = splitted_line[3].split(',')\n",
    "        \n",
    "        ## Now making sure the name and ascii_names are not ignored in the query \n",
    "        if splitted_line[1] not in all_possible_names:\n",
    "            all_possible_names.append(splitted_line[1])\n",
    "        if splitted_line[2] not in all_possible_names:\n",
    "            all_possible_names.append(splitted_line[2])\n",
    "            \n",
    "        for alternate_name in all_possible_names:\n",
    "            #print \"## create doc for\", alternate_name\n",
    "            doc = dict(zip(field_names,splitted_line))\n",
    "            ## We can keep a lower case for ascii_name\n",
    "            doc['ascii_lower'] = doc['ascii_name'].lower()\n",
    "            ## we have multiple names in the altrnate_name field\n",
    "            ## but we need it to be the current alternate name\n",
    "            doc['alternate_name'] = alternate_name\n",
    "            ## we will also keep the lower case of the alternate name\n",
    "            doc['query_lower'] = alternate_name.lower()\n",
    "            ## geo_name_id should be numeric\n",
    "            doc['geo_name_id'] = int(doc['geo_name_id'])\n",
    "            ## both latitude and longitude shoud be float\n",
    "            doc['latitude'] = float(doc['latitude'])\n",
    "            doc['longitude'] = float(doc['longitude'])\n",
    "            ## to comply with mongodb geosearch we will create another location field\n",
    "            ## it should be in this format, loc : [ <longitude> , <latitude> ]\n",
    "            doc['loc'] = [doc['longitude'], doc['latitude']]\n",
    "            doc['population'] = int(doc['population'])\n",
    "            if doc['elevation'] != '':\n",
    "                doc['elevation'] = int(doc['elevation'])\n",
    "            doc['dem'] = int(doc['dem'])\n",
    "            doc['modification_date'] = parser.parse(doc['modification_date'])\n",
    "            #print doc\n",
    "            es.index(index='geonames', doc_type = 'location', id = doc['geo_name_id'], body = doc)\n",
    "            collection.insert_one(doc)"
   ]
  },
  {
   "cell_type": "code",
   "execution_count": null,
   "metadata": {
    "collapsed": true
   },
   "outputs": [],
   "source": [
    "# We will read the all countries list and create a dictionary where the two digit ISO code\n",
    "# would have a value that has the three digit ISO-3 code,full name, lower case full name, continent, neighbours \n",
    "# as another dictionary\n",
    "\n",
    "# The length of one line is at least 17 fields.\n",
    "# For some of the countries there is no Equivalent FIPS code or neighbours, in that case the \n",
    "# length of the country is 17. In other cases we might have a list of neighboring countries\n",
    "# so the length would be 18.\n",
    "# Only for cook islands (CK) we have an equivalent fips code (I don't know what does that mean) and the length of \n",
    "# the field would be 19 in that case.\n",
    "\n",
    "#ISO\tISO3\tISO-Numeric\tfips\tCountry\tCapital\tArea(in sq km)\tPopulation\tContinent\ttld\tCurrencyCode\tCurrencyName\tPhone\tPostal Code Format\tPostal Code Regex\tLanguages\tgeonameid\tneighbours\tEquivalentFipsCode\n",
    "\n",
    "country_code_dict = dict()\n",
    "with open(\"countryInfo.txt\", 'r') as f:\n",
    "    countries = f.xreadlines()\n",
    "    for country in countries:\n",
    "        country =  country.strip()\n",
    "        if not country.startswith(\"#\"):\n",
    "            splitted_country = country.rstrip().split(\"\\t\")\n",
    "            doc = dict()\n",
    "            #print len(splitted_country)\n",
    "            doc[\"country_ISO3\"] = splitted_country[1]\n",
    "            doc[\"country_iso_numeric\"] = splitted_country[2]\n",
    "            doc[\"country_fips\"] = splitted_country[3]\n",
    "            doc[\"country_full_name\"] = splitted_country[4]\n",
    "            ## Only cook island in this document has a length of 19 anbd it does not have any neighbor\n",
    "            ## here. Other 17 length countries do not have neighbors\n",
    "            if len(splitted_country) == 18:\n",
    "                doc[\"country_neighbors\"] = splitted_country[17].split(\",\")\n",
    "                doc[\"country_has_neighbors\"] = True\n",
    "            else:\n",
    "                doc[\"country_neighbors\"] = None\n",
    "                doc[\"country_has_neighbors\"] = False\n",
    "            doc[\"country_capital\"] = splitted_country[5]\n",
    "            doc['country_continent'] = splitted_country[8]\n",
    "            country_code_dict[splitted_country[0]] = doc"
   ]
  },
  {
   "cell_type": "code",
   "execution_count": null,
   "metadata": {},
   "outputs": [],
   "source": [
    "country_code_dict['ZM']"
   ]
  }
 ],
 "metadata": {
  "anaconda-cloud": {},
  "kernelspec": {
   "display_name": "Python 2",
   "language": "python",
   "name": "python2"
  },
  "language_info": {
   "codemirror_mode": {
    "name": "ipython",
    "version": 2
   },
   "file_extension": ".py",
   "mimetype": "text/x-python",
   "name": "python",
   "nbconvert_exporter": "python",
   "pygments_lexer": "ipython2",
   "version": "2.7.12"
  }
 },
 "nbformat": 4,
 "nbformat_minor": 1
}
